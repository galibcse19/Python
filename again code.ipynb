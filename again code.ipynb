{
 "cells": [
  {
   "cell_type": "code",
   "execution_count": null,
   "id": "ae3fe06c",
   "metadata": {},
   "outputs": [],
   "source": [
    "print(\"Hello\")"
   ]
  },
  {
   "cell_type": "code",
   "execution_count": null,
   "id": "341bcf07",
   "metadata": {},
   "outputs": [],
   "source": [
    "print(122)"
   ]
  },
  {
   "cell_type": "markdown",
   "id": "57b26334",
   "metadata": {},
   "source": [
    "# Again Start Python"
   ]
  },
  {
   "cell_type": "code",
   "execution_count": 4,
   "id": "61626822",
   "metadata": {},
   "outputs": [
    {
     "name": "stdout",
     "output_type": "stream",
     "text": [
      "100\n"
     ]
    }
   ],
   "source": [
    "x=100\n",
    "print(x)"
   ]
  },
  {
   "cell_type": "code",
   "execution_count": 5,
   "id": "38782cf1",
   "metadata": {},
   "outputs": [
    {
     "data": {
      "text/plain": [
       "int"
      ]
     },
     "execution_count": 5,
     "metadata": {},
     "output_type": "execute_result"
    }
   ],
   "source": [
    "type(x)"
   ]
  },
  {
   "cell_type": "code",
   "execution_count": null,
   "id": "f678816b",
   "metadata": {},
   "outputs": [],
   "source": [
    "x=float(input())"
   ]
  },
  {
   "cell_type": "code",
   "execution_count": null,
   "id": "88b1df37",
   "metadata": {},
   "outputs": [],
   "source": [
    "a,b,c='galib','g','m'\n",
    "print(a)\n",
    "print(b)\n",
    "print(c)"
   ]
  },
  {
   "cell_type": "code",
   "execution_count": null,
   "id": "107a43ce",
   "metadata": {},
   "outputs": [],
   "source": [
    "ice=['abc','bcd','cde']\n",
    "a,b,c=ice\n",
    "print(a)\n",
    "print(b)\n",
    "print(c)"
   ]
  },
  {
   "cell_type": "code",
   "execution_count": null,
   "id": "c947d3d5",
   "metadata": {},
   "outputs": [],
   "source": [
    "x='i love myself' + '.'\n",
    "print(x)"
   ]
  },
  {
   "cell_type": "code",
   "execution_count": null,
   "id": "1d0391f7",
   "metadata": {},
   "outputs": [],
   "source": [
    "x=1\n",
    "y=2\n",
    "z=3\n",
    "print(x+y+z)"
   ]
  },
  {
   "cell_type": "code",
   "execution_count": null,
   "id": "45fd8222",
   "metadata": {},
   "outputs": [],
   "source": [
    "x=\"galib\"\n",
    "y=\" Ga\"\n",
    "z=\"Lib\"\n",
    "print(x+y+z)"
   ]
  },
  {
   "cell_type": "code",
   "execution_count": null,
   "id": "b2d86670",
   "metadata": {},
   "outputs": [],
   "source": [
    "x='gaLib'\n",
    "y=2\n",
    "z=3\n",
    "print(x,y,z)"
   ]
  },
  {
   "cell_type": "code",
   "execution_count": null,
   "id": "cc1cd3d7",
   "metadata": {},
   "outputs": [],
   "source": [
    "type(10)"
   ]
  },
  {
   "cell_type": "code",
   "execution_count": null,
   "id": "477b216b",
   "metadata": {},
   "outputs": [],
   "source": [
    "type(10.1)"
   ]
  },
  {
   "cell_type": "code",
   "execution_count": null,
   "id": "57e4effe",
   "metadata": {},
   "outputs": [],
   "source": [
    "type(2+3j)"
   ]
  },
  {
   "cell_type": "code",
   "execution_count": null,
   "id": "293a8238",
   "metadata": {},
   "outputs": [],
   "source": [
    "type(11111111111111111000000000000)"
   ]
  },
  {
   "cell_type": "code",
   "execution_count": null,
   "id": "33d91882",
   "metadata": {},
   "outputs": [],
   "source": [
    "type(True)"
   ]
  },
  {
   "cell_type": "code",
   "execution_count": 25,
   "id": "d8f7ba34",
   "metadata": {},
   "outputs": [
    {
     "data": {
      "text/plain": [
       "bool"
      ]
     },
     "execution_count": 25,
     "metadata": {},
     "output_type": "execute_result"
    }
   ],
   "source": [
    "type(False)"
   ]
  },
  {
   "cell_type": "code",
   "execution_count": 26,
   "id": "aac24c84",
   "metadata": {},
   "outputs": [
    {
     "data": {
      "text/plain": [
       "bool"
      ]
     },
     "execution_count": 26,
     "metadata": {},
     "output_type": "execute_result"
    }
   ],
   "source": [
    "type(6>5)"
   ]
  },
  {
   "cell_type": "code",
   "execution_count": 27,
   "id": "065fd1ac",
   "metadata": {},
   "outputs": [
    {
     "data": {
      "text/plain": [
       "True"
      ]
     },
     "execution_count": 27,
     "metadata": {},
     "output_type": "execute_result"
    }
   ],
   "source": [
    "1==1"
   ]
  },
  {
   "cell_type": "code",
   "execution_count": 49,
   "id": "bf8b948e",
   "metadata": {},
   "outputs": [
    {
     "name": "stdout",
     "output_type": "stream",
     "text": [
      "GALIB\n"
     ]
    }
   ],
   "source": [
    "a='ABDULLA AL GALIB'\n",
    "print(a[11:16])"
   ]
  },
  {
   "cell_type": "code",
   "execution_count": 50,
   "id": "37bd5413",
   "metadata": {},
   "outputs": [
    {
     "data": {
      "text/plain": [
       "'ABDULLA AL GALIBABDULLA AL GALIBABDULLA AL GALIB'"
      ]
     },
     "execution_count": 50,
     "metadata": {},
     "output_type": "execute_result"
    }
   ],
   "source": [
    "a*3"
   ]
  },
  {
   "cell_type": "code",
   "execution_count": 52,
   "id": "ec09535a",
   "metadata": {},
   "outputs": [
    {
     "data": {
      "text/plain": [
       "('ABDULLA AL GALIB', 'ABDULLA AL GALIB')"
      ]
     },
     "execution_count": 52,
     "metadata": {},
     "output_type": "execute_result"
    }
   ],
   "source": [
    "a,a"
   ]
  },
  {
   "cell_type": "code",
   "execution_count": 53,
   "id": "a1aaedfe",
   "metadata": {},
   "outputs": [
    {
     "data": {
      "text/plain": [
       "'ABDULLA AL GALIBABDULLA AL GALIB'"
      ]
     },
     "execution_count": 53,
     "metadata": {},
     "output_type": "execute_result"
    }
   ],
   "source": [
    "a+a"
   ]
  },
  {
   "cell_type": "code",
   "execution_count": 54,
   "id": "72f841d2",
   "metadata": {},
   "outputs": [
    {
     "data": {
      "text/plain": [
       "[1, 2, 3, 4, 5]"
      ]
     },
     "execution_count": 54,
     "metadata": {},
     "output_type": "execute_result"
    }
   ],
   "source": [
    "# list \n",
    "[1,2,3,4,5]"
   ]
  },
  {
   "cell_type": "code",
   "execution_count": 56,
   "id": "72772b9e",
   "metadata": {},
   "outputs": [
    {
     "data": {
      "text/plain": [
       "['galib', 'mim', 'jsr', 'khulna']"
      ]
     },
     "execution_count": 56,
     "metadata": {},
     "output_type": "execute_result"
    }
   ],
   "source": [
    "['galib','mim','jsr','khulna']"
   ]
  },
  {
   "cell_type": "code",
   "execution_count": 70,
   "id": "bddb49a3",
   "metadata": {},
   "outputs": [],
   "source": [
    "n_list=['kh',3,['mim','galib'],True]"
   ]
  },
  {
   "cell_type": "code",
   "execution_count": 64,
   "id": "3b637d1d",
   "metadata": {},
   "outputs": [],
   "source": [
    "name=['galib','mim','jsr','khulna']\n",
    "name.append('togather')"
   ]
  },
  {
   "cell_type": "code",
   "execution_count": 65,
   "id": "9213216d",
   "metadata": {},
   "outputs": [
    {
     "data": {
      "text/plain": [
       "['galib', 'mim', 'jsr', 'khulna', 'togather']"
      ]
     },
     "execution_count": 65,
     "metadata": {},
     "output_type": "execute_result"
    }
   ],
   "source": [
    "name"
   ]
  },
  {
   "cell_type": "code",
   "execution_count": 66,
   "id": "11af822a",
   "metadata": {},
   "outputs": [
    {
     "data": {
      "text/plain": [
       "['ABDULLA AL GALIB', 'mim', 'jsr', 'khulna', 'togather']"
      ]
     },
     "execution_count": 66,
     "metadata": {},
     "output_type": "execute_result"
    }
   ],
   "source": [
    "name[0]='ABDULLA AL GALIB'\n",
    "name"
   ]
  },
  {
   "cell_type": "code",
   "execution_count": 71,
   "id": "af39334e",
   "metadata": {},
   "outputs": [
    {
     "data": {
      "text/plain": [
       "'mim'"
      ]
     },
     "execution_count": 71,
     "metadata": {},
     "output_type": "execute_result"
    }
   ],
   "source": [
    "n_list[2][0]"
   ]
  },
  {
   "cell_type": "code",
   "execution_count": 72,
   "id": "87db9ab1",
   "metadata": {},
   "outputs": [],
   "source": [
    "lint3=['galib',['a','g',['l','i','b']]]"
   ]
  },
  {
   "cell_type": "code",
   "execution_count": 77,
   "id": "864f1e4f",
   "metadata": {},
   "outputs": [
    {
     "data": {
      "text/plain": [
       "'l'"
      ]
     },
     "execution_count": 77,
     "metadata": {},
     "output_type": "execute_result"
    }
   ],
   "source": [
    "lint3[1][2][0]"
   ]
  },
  {
   "cell_type": "code",
   "execution_count": 79,
   "id": "018710d9",
   "metadata": {},
   "outputs": [],
   "source": [
    "a={1,1,2,1,1,2,3,3,11,1,66,2,21,66,2,1,99,1,2,2}"
   ]
  },
  {
   "cell_type": "code",
   "execution_count": 80,
   "id": "62ef7994",
   "metadata": {},
   "outputs": [
    {
     "name": "stdout",
     "output_type": "stream",
     "text": [
      "{1, 2, 99, 3, 66, 21, 11}\n"
     ]
    }
   ],
   "source": [
    "print(a)"
   ]
  },
  {
   "cell_type": "code",
   "execution_count": 81,
   "id": "90002d8d",
   "metadata": {},
   "outputs": [],
   "source": [
    " dic={'name':'galib','Roll':190150}"
   ]
  },
  {
   "cell_type": "code",
   "execution_count": 82,
   "id": "9ffc49ab",
   "metadata": {},
   "outputs": [
    {
     "data": {
      "text/plain": [
       "dict"
      ]
     },
     "execution_count": 82,
     "metadata": {},
     "output_type": "execute_result"
    }
   ],
   "source": [
    "type(dic)"
   ]
  },
  {
   "cell_type": "code",
   "execution_count": 83,
   "id": "673e31d6",
   "metadata": {},
   "outputs": [
    {
     "data": {
      "text/plain": [
       "dict_keys(['name', 'Roll'])"
      ]
     },
     "execution_count": 83,
     "metadata": {},
     "output_type": "execute_result"
    }
   ],
   "source": [
    "dic.keys()"
   ]
  },
  {
   "cell_type": "code",
   "execution_count": 84,
   "id": "788e23b6",
   "metadata": {},
   "outputs": [
    {
     "data": {
      "text/plain": [
       "dict_values(['galib', 190150])"
      ]
     },
     "execution_count": 84,
     "metadata": {},
     "output_type": "execute_result"
    }
   ],
   "source": [
    "dic.values()"
   ]
  },
  {
   "cell_type": "code",
   "execution_count": 85,
   "id": "d2a708cd",
   "metadata": {},
   "outputs": [
    {
     "name": "stdout",
     "output_type": "stream",
     "text": [
      "{'name': 'galib', 'Roll': 190150}\n"
     ]
    }
   ],
   "source": [
    "print(dic)"
   ]
  },
  {
   "cell_type": "code",
   "execution_count": 86,
   "id": "196bc88a",
   "metadata": {},
   "outputs": [
    {
     "data": {
      "text/plain": [
       "dict_items([('name', 'galib'), ('Roll', 190150)])"
      ]
     },
     "execution_count": 86,
     "metadata": {},
     "output_type": "execute_result"
    }
   ],
   "source": [
    "dic.items()"
   ]
  },
  {
   "cell_type": "code",
   "execution_count": 88,
   "id": "ea5d67f6",
   "metadata": {},
   "outputs": [
    {
     "data": {
      "text/plain": [
       "'galib'"
      ]
     },
     "execution_count": 88,
     "metadata": {},
     "output_type": "execute_result"
    }
   ],
   "source": [
    " dic['name']"
   ]
  },
  {
   "cell_type": "code",
   "execution_count": 90,
   "id": "b2469805",
   "metadata": {},
   "outputs": [
    {
     "data": {
      "text/plain": [
       "190150"
      ]
     },
     "execution_count": 90,
     "metadata": {},
     "output_type": "execute_result"
    }
   ],
   "source": [
    "dic['Roll']"
   ]
  },
  {
   "cell_type": "code",
   "execution_count": 91,
   "id": "aa90dfe7",
   "metadata": {},
   "outputs": [],
   "source": [
    "dic['Roll']=1901046"
   ]
  },
  {
   "cell_type": "code",
   "execution_count": 92,
   "id": "de019a6d",
   "metadata": {},
   "outputs": [
    {
     "data": {
      "text/plain": [
       "{'name': 'galib', 'Roll': 1901046}"
      ]
     },
     "execution_count": 92,
     "metadata": {},
     "output_type": "execute_result"
    }
   ],
   "source": [
    "dic"
   ]
  },
  {
   "cell_type": "markdown",
   "id": "717ca51d",
   "metadata": {},
   "source": [
    "# Comparison Operators"
   ]
  },
  {
   "cell_type": "code",
   "execution_count": 93,
   "id": "e01632ec",
   "metadata": {},
   "outputs": [
    {
     "data": {
      "text/plain": [
       "False"
      ]
     },
     "execution_count": 93,
     "metadata": {},
     "output_type": "execute_result"
    }
   ],
   "source": [
    "10==100"
   ]
  },
  {
   "cell_type": "code",
   "execution_count": 94,
   "id": "919bb1e0",
   "metadata": {},
   "outputs": [
    {
     "data": {
      "text/plain": [
       "True"
      ]
     },
     "execution_count": 94,
     "metadata": {},
     "output_type": "execute_result"
    }
   ],
   "source": [
    "1!=2"
   ]
  },
  {
   "cell_type": "code",
   "execution_count": 95,
   "id": "6fcdd211",
   "metadata": {},
   "outputs": [
    {
     "data": {
      "text/plain": [
       "True"
      ]
     },
     "execution_count": 95,
     "metadata": {},
     "output_type": "execute_result"
    }
   ],
   "source": [
    "4>1"
   ]
  },
  {
   "cell_type": "code",
   "execution_count": 96,
   "id": "38519a40",
   "metadata": {},
   "outputs": [
    {
     "data": {
      "text/plain": [
       "True"
      ]
     },
     "execution_count": 96,
     "metadata": {},
     "output_type": "execute_result"
    }
   ],
   "source": [
    "4>=1"
   ]
  },
  {
   "cell_type": "code",
   "execution_count": 97,
   "id": "d65b55cc",
   "metadata": {},
   "outputs": [
    {
     "data": {
      "text/plain": [
       "False"
      ]
     },
     "execution_count": 97,
     "metadata": {},
     "output_type": "execute_result"
    }
   ],
   "source": [
    "4<=1"
   ]
  },
  {
   "cell_type": "code",
   "execution_count": 99,
   "id": "be8a06a5",
   "metadata": {},
   "outputs": [
    {
     "data": {
      "text/plain": [
       "True"
      ]
     },
     "execution_count": 99,
     "metadata": {},
     "output_type": "execute_result"
    }
   ],
   "source": [
    "(10>9) and (1>0) #and/& use in python"
   ]
  },
  {
   "cell_type": "code",
   "execution_count": 104,
   "id": "e7adf515",
   "metadata": {},
   "outputs": [
    {
     "data": {
      "text/plain": [
       "True"
      ]
     },
     "execution_count": 104,
     "metadata": {},
     "output_type": "execute_result"
    }
   ],
   "source": [
    "(101>19) | (11>3) # or/| use in python "
   ]
  },
  {
   "cell_type": "code",
   "execution_count": 108,
   "id": "2776d51e",
   "metadata": {},
   "outputs": [
    {
     "data": {
      "text/plain": [
       "True"
      ]
     },
     "execution_count": 108,
     "metadata": {},
     "output_type": "execute_result"
    }
   ],
   "source": [
    " a='it is a beautyful place'\n",
    " 'is' in a"
   ]
  },
  {
   "cell_type": "code",
   "execution_count": 110,
   "id": "03f1f709",
   "metadata": {},
   "outputs": [
    {
     "data": {
      "text/plain": [
       "False"
      ]
     },
     "execution_count": 110,
     "metadata": {},
     "output_type": "execute_result"
    }
   ],
   "source": [
    "b=[1,2,1,2,4,5,6]\n",
    "6  not in b"
   ]
  },
  {
   "cell_type": "markdown",
   "id": "00687ba8",
   "metadata": {},
   "source": [
    "# Conditions"
   ]
  },
  {
   "cell_type": "code",
   "execution_count": 115,
   "id": "a8942698",
   "metadata": {},
   "outputs": [
    {
     "name": "stdout",
     "output_type": "stream",
     "text": [
      "its true\n"
     ]
    }
   ],
   "source": [
    "a=100\n",
    "if(a>=110):\n",
    "    print('ITS true')\n",
    "elif(a>=4):\n",
    "    print('its true')\n",
    "else:\n",
    "    print(\"ITS not true\")"
   ]
  },
  {
   "cell_type": "markdown",
   "id": "0e06883f",
   "metadata": {},
   "source": [
    "# Loops"
   ]
  },
  {
   "cell_type": "code",
   "execution_count": 116,
   "id": "6130b277",
   "metadata": {},
   "outputs": [],
   "source": [
    "a=[1,2,1,3,4,5,6,7,8,9]"
   ]
  },
  {
   "cell_type": "code",
   "execution_count": 123,
   "id": "0b8c5ef4",
   "metadata": {},
   "outputs": [
    {
     "name": "stdout",
     "output_type": "stream",
     "text": [
      "1\n",
      "2\n",
      "1\n",
      "3\n",
      "4\n",
      "5\n",
      "6\n",
      "7\n",
      "8\n",
      "9\n"
     ]
    }
   ],
   "source": [
    "for put in a:\n",
    "    print(put)"
   ]
  },
  {
   "cell_type": "code",
   "execution_count": 124,
   "id": "a5a07ac3",
   "metadata": {},
   "outputs": [
    {
     "name": "stdout",
     "output_type": "stream",
     "text": [
      "1 10\n",
      "1 11\n",
      "1 12\n",
      "1 13\n",
      "1 14\n",
      "2 10\n",
      "2 11\n",
      "2 12\n",
      "2 13\n",
      "2 14\n",
      "3 10\n",
      "3 11\n",
      "3 12\n",
      "3 13\n",
      "3 14\n",
      "4 10\n",
      "4 11\n",
      "4 12\n",
      "4 13\n",
      "4 14\n",
      "5 10\n",
      "5 11\n",
      "5 12\n",
      "5 13\n",
      "5 14\n",
      "6 10\n",
      "6 11\n",
      "6 12\n",
      "6 13\n",
      "6 14\n",
      "7 10\n",
      "7 11\n",
      "7 12\n",
      "7 13\n",
      "7 14\n"
     ]
    }
   ],
   "source": [
    "a=[1,2,3,4,5,6,7]\n",
    "b=[10,11,12,13,14]\n",
    "for one in a:\n",
    "    for two in b:\n",
    "        print(one,two)"
   ]
  },
  {
   "cell_type": "code",
   "execution_count": 127,
   "id": "644ec28c",
   "metadata": {},
   "outputs": [
    {
     "name": "stdout",
     "output_type": "stream",
     "text": [
      "0\n",
      "1\n",
      "2\n",
      "3\n",
      "4\n"
     ]
    }
   ],
   "source": [
    "i=0\n",
    "while i<5:\n",
    "    print(i)\n",
    "    i+=1"
   ]
  },
  {
   "cell_type": "code",
   "execution_count": 1,
   "id": "18857414",
   "metadata": {},
   "outputs": [
    {
     "name": "stdout",
     "output_type": "stream",
     "text": [
      "0\n",
      "1\n",
      "2\n",
      "3\n",
      "4\n",
      "5\n"
     ]
    }
   ],
   "source": [
    "i=0\n",
    "while i<10:\n",
    "    print(i)\n",
    "    if i==5:\n",
    "        break\n",
    "        \n",
    "    i+=1    "
   ]
  },
  {
   "cell_type": "code",
   "execution_count": 2,
   "id": "86b53625",
   "metadata": {},
   "outputs": [],
   "source": [
    "x=1"
   ]
  },
  {
   "cell_type": "code",
   "execution_count": 3,
   "id": "ea69a9d1",
   "metadata": {},
   "outputs": [
    {
     "name": "stdout",
     "output_type": "stream",
     "text": [
      "1\n"
     ]
    }
   ],
   "source": [
    "print(x)"
   ]
  },
  {
   "cell_type": "code",
   "execution_count": 13,
   "id": "f8ac3194",
   "metadata": {},
   "outputs": [
    {
     "name": "stdout",
     "output_type": "stream",
     "text": [
      "Enter a Number: 100\n",
      "100\n"
     ]
    }
   ],
   "source": [
    "print(str(input('Enter a Number: ')))"
   ]
  },
  {
   "cell_type": "code",
   "execution_count": 15,
   "id": "3007d1c9",
   "metadata": {},
   "outputs": [],
   "source": [
    "def first_function():\n",
    "    print('i am galib')"
   ]
  },
  {
   "cell_type": "code",
   "execution_count": 16,
   "id": "5b61a504",
   "metadata": {},
   "outputs": [
    {
     "name": "stdout",
     "output_type": "stream",
     "text": [
      "i am galib\n"
     ]
    }
   ],
   "source": [
    "first_function()"
   ]
  },
  {
   "cell_type": "code",
   "execution_count": 17,
   "id": "7ba36da5",
   "metadata": {},
   "outputs": [],
   "source": [
    "def num_sq(num):\n",
    "    print(num**2)"
   ]
  },
  {
   "cell_type": "code",
   "execution_count": 18,
   "id": "6ea49219",
   "metadata": {},
   "outputs": [
    {
     "name": "stdout",
     "output_type": "stream",
     "text": [
      "25\n"
     ]
    }
   ],
   "source": [
    "num_sq(5)"
   ]
  },
  {
   "cell_type": "code",
   "execution_count": 19,
   "id": "87667a0e",
   "metadata": {},
   "outputs": [],
   "source": [
    "def num_sq(num,power):\n",
    "    print(num**power)"
   ]
  },
  {
   "cell_type": "code",
   "execution_count": 20,
   "id": "009f8e8b",
   "metadata": {},
   "outputs": [
    {
     "name": "stdout",
     "output_type": "stream",
     "text": [
      "343\n"
     ]
    }
   ],
   "source": [
    "num_sq(7,3)"
   ]
  },
  {
   "cell_type": "code",
   "execution_count": 21,
   "id": "9f537906",
   "metadata": {},
   "outputs": [],
   "source": [
    "def num_arg(*num):\n",
    "    print(num[0]*num[1])"
   ]
  },
  {
   "cell_type": "code",
   "execution_count": 22,
   "id": "69c75dfe",
   "metadata": {},
   "outputs": [
    {
     "name": "stdout",
     "output_type": "stream",
     "text": [
      "12\n"
     ]
    }
   ],
   "source": [
    "num_arg(4,3,1,2)"
   ]
  },
  {
   "cell_type": "code",
   "execution_count": 24,
   "id": "9d49e737",
   "metadata": {},
   "outputs": [
    {
     "data": {
      "text/plain": [
       "float"
      ]
     },
     "execution_count": 24,
     "metadata": {},
     "output_type": "execute_result"
    }
   ],
   "source": [
    "x=float(7)\n",
    "type(x)"
   ]
  },
  {
   "cell_type": "code",
   "execution_count": null,
   "id": "42e284a9",
   "metadata": {},
   "outputs": [],
   "source": []
  }
 ],
 "metadata": {
  "kernelspec": {
   "display_name": "Python 3 (ipykernel)",
   "language": "python",
   "name": "python3"
  },
  "language_info": {
   "codemirror_mode": {
    "name": "ipython",
    "version": 3
   },
   "file_extension": ".py",
   "mimetype": "text/x-python",
   "name": "python",
   "nbconvert_exporter": "python",
   "pygments_lexer": "ipython3",
   "version": "3.9.13"
  }
 },
 "nbformat": 4,
 "nbformat_minor": 5
}
